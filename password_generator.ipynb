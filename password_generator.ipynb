{
 "cells": [
  {
   "cell_type": "markdown",
   "metadata": {},
   "source": [
    "# Random Password Generator"
   ]
  },
  {
   "cell_type": "markdown",
   "metadata": {},
   "source": [
    "Problem Statement:\n",
    "You know how important a password is and to it trong and secure you need to build it in such a way that it is non-vulnerable. Develop a random password generator to help people to secure their credentials."
   ]
  },
  {
   "cell_type": "code",
   "execution_count": 4,
   "metadata": {},
   "outputs": [
    {
     "name": "stdout",
     "output_type": "stream",
     "text": [
      "Hello Welcome to Random Password Generator🎉\n",
      "\n",
      "Enter the lenght of the password:20\n",
      "C.\\=bl'S?2Xy(*}Z-@)&\n"
     ]
    }
   ],
   "source": [
    "import random  #import random\n",
    "import string  #import string\n",
    "print(\"Hello Welcome to Random Password Generator🎉\")\n",
    "length=int(input(\"\\nEnter the lenght of the password:\")) #Declare the length of the Password\n",
    "lower=string.ascii_lowercase \n",
    "upper=string.ascii_uppercase\n",
    "numbers=string.digits\n",
    "symbols=string.punctuation  #if you feel remembering symbols is a huge task, don't use punctuation.\n",
    "all=lower+upper+numbers+symbols #combine all string combination\n",
    "temp=random.sample(all,length) #random function \n",
    "password=\"\".join(temp)\n",
    "print(password)"
   ]
  },
  {
   "cell_type": "markdown",
   "metadata": {},
   "source": [
    "Developed by Ahamed Basha N"
   ]
  }
 ],
 "metadata": {
  "kernelspec": {
   "display_name": "Python 3",
   "language": "python",
   "name": "python3"
  },
  "language_info": {
   "codemirror_mode": {
    "name": "ipython",
    "version": 3
   },
   "file_extension": ".py",
   "mimetype": "text/x-python",
   "name": "python",
   "nbconvert_exporter": "python",
   "pygments_lexer": "ipython3",
   "version": "3.8.5"
  }
 },
 "nbformat": 4,
 "nbformat_minor": 4
}
